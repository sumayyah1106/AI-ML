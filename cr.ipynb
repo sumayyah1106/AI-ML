{
 "cells": [
  {
   "cell_type": "code",
   "execution_count": 1,
   "id": "c4ccf1be-6e11-4cc1-a8d8-a02bb190b3fc",
   "metadata": {},
   "outputs": [],
   "source": [
    "import numpy as np"
   ]
  },
  {
   "cell_type": "code",
   "execution_count": 3,
   "id": "5c237b98-0f11-443a-9e47-4968b55cc564",
   "metadata": {},
   "outputs": [
    {
     "name": "stdin",
     "output_type": "stream",
     "text": [
      "enter number of test cases 1\n",
      "Enter the student IDs separated by space:  1 0 9 3 0 2 3 0 2 1 4 7\n"
     ]
    },
    {
     "name": "stdout",
     "output_type": "stream",
     "text": [
      "[False False False False  True False  True  True  True  True False False]\n"
     ]
    }
   ],
   "source": [
    "def mark_duplicates(ids):\n",
    "    seen = set()\n",
    "    result = []\n",
    "    for id in ids:\n",
    "        if id in seen:\n",
    "            result.append(True)\n",
    "        else:\n",
    "            seen.add(id)\n",
    "            result.append(False)\n",
    "    return np.array(result)\n",
    "\n",
    "t = int(input(\"enter number of test cases\"))\n",
    "\n",
    "for _ in range(t):\n",
    "    input_str = input(\"Enter the student IDs separated by space: \")\n",
    "    ids = np.array(list(map(int, input_str.strip().split())))\n",
    "\n",
    "    print(mark_duplicates(ids))"
   ]
  },
  {
   "cell_type": "code",
   "execution_count": null,
   "id": "a2f150cc-7951-4f01-92f0-dbfb48f87bfd",
   "metadata": {},
   "outputs": [],
   "source": []
  }
 ],
 "metadata": {
  "kernelspec": {
   "display_name": "Python 3 (ipykernel)",
   "language": "python",
   "name": "python3"
  },
  "language_info": {
   "codemirror_mode": {
    "name": "ipython",
    "version": 3
   },
   "file_extension": ".py",
   "mimetype": "text/x-python",
   "name": "python",
   "nbconvert_exporter": "python",
   "pygments_lexer": "ipython3",
   "version": "3.11.5"
  }
 },
 "nbformat": 4,
 "nbformat_minor": 5
}
