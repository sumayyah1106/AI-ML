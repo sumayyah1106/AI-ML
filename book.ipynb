{
 "cells": [
  {
   "cell_type": "code",
   "execution_count": 1,
   "id": "e0c8c99c-ca36-4e30-ad5d-405d48ffdbd3",
   "metadata": {},
   "outputs": [],
   "source": [
    "import requests\n",
    "import pandas as pd\n",
    "import seaborn as sns\n",
    "import matplotlib.pyplot as plt\n",
    "from bs4 import BeautifulSoup"
   ]
  },
  {
   "cell_type": "code",
   "execution_count": 2,
   "id": "b019f51f-24d3-4a9a-a7bf-18289bd61a3b",
   "metadata": {},
   "outputs": [],
   "source": [
    "url = \"http://books.toscrape.com\""
   ]
  },
  {
   "cell_type": "code",
   "execution_count": 3,
   "id": "25304646-c897-4165-ae02-bdbd74d1c45c",
   "metadata": {},
   "outputs": [],
   "source": [
    "response = requests.get(\"http://books.toscrape.com\")"
   ]
  },
  {
   "cell_type": "code",
   "execution_count": 4,
   "id": "ed3f07a3-143a-41c2-98c6-edf5edcdeacd",
   "metadata": {},
   "outputs": [],
   "source": [
    "soup = BeautifulSoup(response.text, 'html.parser')"
   ]
  },
  {
   "cell_type": "code",
   "execution_count": 5,
   "id": "c279df33-7d1d-4506-b396-623461ec707d",
   "metadata": {},
   "outputs": [],
   "source": [
    "books = soup.find_all('article', class_='product_pod')"
   ]
  },
  {
   "cell_type": "code",
   "execution_count": 6,
   "id": "b322c0c3-f5e0-4eba-bd2d-4ebd1abbcd1e",
   "metadata": {},
   "outputs": [
    {
     "name": "stdout",
     "output_type": "stream",
     "text": [
      "Title: A Light in the Attic\n",
      "Price (GBP): £51.77\n",
      "Price (INR): ₹5384.08\n",
      "\n",
      "Title: Tipping the Velvet\n",
      "Price (GBP): £53.74\n",
      "Price (INR): ₹5588.96\n",
      "\n",
      "Title: Soumission\n",
      "Price (GBP): £50.10\n",
      "Price (INR): ₹5210.40\n",
      "\n",
      "Title: Sharp Objects\n",
      "Price (GBP): £47.82\n",
      "Price (INR): ₹4973.28\n",
      "\n",
      "Title: Sapiens: A Brief History of Humankind\n",
      "Price (GBP): £54.23\n",
      "Price (INR): ₹5639.92\n",
      "\n",
      "Title: The Requiem Red\n",
      "Price (GBP): £22.65\n",
      "Price (INR): ₹2355.60\n",
      "\n",
      "Title: The Dirty Little Secrets of Getting Your Dream Job\n",
      "Price (GBP): £33.34\n",
      "Price (INR): ₹3467.36\n",
      "\n",
      "Title: The Coming Woman: A Novel Based on the Life of the Infamous Feminist, Victoria Woodhull\n",
      "Price (GBP): £17.93\n",
      "Price (INR): ₹1864.72\n",
      "\n",
      "Title: The Boys in the Boat: Nine Americans and Their Epic Quest for Gold at the 1936 Berlin Olympics\n",
      "Price (GBP): £22.60\n",
      "Price (INR): ₹2350.40\n",
      "\n",
      "Title: The Black Maria\n",
      "Price (GBP): £52.15\n",
      "Price (INR): ₹5423.60\n",
      "\n",
      "Title: Starving Hearts (Triangular Trade Trilogy, #1)\n",
      "Price (GBP): £13.99\n",
      "Price (INR): ₹1454.96\n",
      "\n",
      "Title: Shakespeare's Sonnets\n",
      "Price (GBP): £20.66\n",
      "Price (INR): ₹2148.64\n",
      "\n",
      "Title: Set Me Free\n",
      "Price (GBP): £17.46\n",
      "Price (INR): ₹1815.84\n",
      "\n",
      "Title: Scott Pilgrim's Precious Little Life (Scott Pilgrim #1)\n",
      "Price (GBP): £52.29\n",
      "Price (INR): ₹5438.16\n",
      "\n",
      "Title: Rip it Up and Start Again\n",
      "Price (GBP): £35.02\n",
      "Price (INR): ₹3642.08\n",
      "\n",
      "Title: Our Band Could Be Your Life: Scenes from the American Indie Underground, 1981-1991\n",
      "Price (GBP): £57.25\n",
      "Price (INR): ₹5954.00\n",
      "\n",
      "Title: Olio\n",
      "Price (GBP): £23.88\n",
      "Price (INR): ₹2483.52\n",
      "\n",
      "Title: Mesaerion: The Best Science Fiction Stories 1800-1849\n",
      "Price (GBP): £37.59\n",
      "Price (INR): ₹3909.36\n",
      "\n",
      "Title: Libertarianism for Beginners\n",
      "Price (GBP): £51.33\n",
      "Price (INR): ₹5338.32\n",
      "\n",
      "Title: It's Only the Himalayas\n",
      "Price (GBP): £45.17\n",
      "Price (INR): ₹4697.68\n",
      "\n"
     ]
    }
   ],
   "source": [
    "book_data = []\n",
    "conversion_rate = 104  # 1 GBP ≈ 104 INR (check current rate)\n",
    "\n",
    "for book in books:\n",
    "    title = book.h3.a['title']\n",
    "    price_gbp = book.find('p', class_='price_color').text  # e.g., \"£51.77\"\n",
    "    \n",
    "    # Clean the price string by removing unwanted characters\n",
    "    price_gbp_cleaned = price_gbp.replace('£', '').replace('Â', '').strip()\n",
    "    \n",
    "    try:\n",
    "        # Convert cleaned price to float\n",
    "        price_gbp_value = float(price_gbp_cleaned) if price_gbp_cleaned else 0.0\n",
    "        \n",
    "        # Convert to INR\n",
    "        price_inr = price_gbp_value * conversion_rate\n",
    "        \n",
    "        # Format output\n",
    "        print(f\"Title: {title}\\nPrice (GBP): £{price_gbp_value:.2f}\\nPrice (INR): ₹{price_inr:.2f}\\n\")\n",
    "        book_data.append({\n",
    "            \"Title\": title,\n",
    "            \"Price (GBP)\": f\"£{price_gbp_value:.2f}\",\n",
    "            \"Price (INR)\": f\"₹{price_inr:.2f}\"\n",
    "        })\n",
    "    except ValueError:\n",
    "        print(f\"Error converting price for '{title}': {price_gbp}\")"
   ]
  },
  {
   "cell_type": "code",
   "execution_count": 7,
   "id": "1f89884c-fea1-498c-afab-79fe1341deab",
   "metadata": {},
   "outputs": [],
   "source": [
    "df= pd.DataFrame(book_data)"
   ]
  },
  {
   "cell_type": "code",
   "execution_count": 8,
   "id": "a1c9f226-8925-4f0f-b423-6647c2587890",
   "metadata": {},
   "outputs": [
    {
     "name": "stdout",
     "output_type": "stream",
     "text": [
      "                                                Title Price (GBP) Price (INR)\n",
      "0                                A Light in the Attic      £51.77    ₹5384.08\n",
      "1                                  Tipping the Velvet      £53.74    ₹5588.96\n",
      "2                                          Soumission      £50.10    ₹5210.40\n",
      "3                                       Sharp Objects      £47.82    ₹4973.28\n",
      "4               Sapiens: A Brief History of Humankind      £54.23    ₹5639.92\n",
      "5                                     The Requiem Red      £22.65    ₹2355.60\n",
      "6   The Dirty Little Secrets of Getting Your Dream...      £33.34    ₹3467.36\n",
      "7   The Coming Woman: A Novel Based on the Life of...      £17.93    ₹1864.72\n",
      "8   The Boys in the Boat: Nine Americans and Their...      £22.60    ₹2350.40\n",
      "9                                     The Black Maria      £52.15    ₹5423.60\n",
      "10     Starving Hearts (Triangular Trade Trilogy, #1)      £13.99    ₹1454.96\n",
      "11                              Shakespeare's Sonnets      £20.66    ₹2148.64\n",
      "12                                        Set Me Free      £17.46    ₹1815.84\n",
      "13  Scott Pilgrim's Precious Little Life (Scott Pi...      £52.29    ₹5438.16\n",
      "14                          Rip it Up and Start Again      £35.02    ₹3642.08\n",
      "15  Our Band Could Be Your Life: Scenes from the A...      £57.25    ₹5954.00\n",
      "16                                               Olio      £23.88    ₹2483.52\n",
      "17  Mesaerion: The Best Science Fiction Stories 18...      £37.59    ₹3909.36\n",
      "18                       Libertarianism for Beginners      £51.33    ₹5338.32\n",
      "19                            It's Only the Himalayas      £45.17    ₹4697.68\n"
     ]
    }
   ],
   "source": [
    "print(df)"
   ]
  },
  {
   "cell_type": "code",
   "execution_count": 9,
   "id": "c5d291a6-1f4e-472b-a44f-96166f6194d5",
   "metadata": {},
   "outputs": [
    {
     "data": {
      "text/plain": [
       "Title          It's Only the Himalayas\n",
       "Price (GBP)                     £45.17\n",
       "Price (INR)                   ₹4697.68\n",
       "Name: 19, dtype: object"
      ]
     },
     "execution_count": 9,
     "metadata": {},
     "output_type": "execute_result"
    }
   ],
   "source": [
    "book1 = df.iloc[19]\n",
    "book1"
   ]
  },
  {
   "cell_type": "code",
   "execution_count": 10,
   "id": "7d432579-afb0-4c4e-a9b7-49b76e4e0e6a",
   "metadata": {},
   "outputs": [
    {
     "data": {
      "text/html": [
       "<div>\n",
       "<style scoped>\n",
       "    .dataframe tbody tr th:only-of-type {\n",
       "        vertical-align: middle;\n",
       "    }\n",
       "\n",
       "    .dataframe tbody tr th {\n",
       "        vertical-align: top;\n",
       "    }\n",
       "\n",
       "    .dataframe thead th {\n",
       "        text-align: right;\n",
       "    }\n",
       "</style>\n",
       "<table border=\"1\" class=\"dataframe\">\n",
       "  <thead>\n",
       "    <tr style=\"text-align: right;\">\n",
       "      <th></th>\n",
       "      <th>Title</th>\n",
       "      <th>Price (GBP)</th>\n",
       "      <th>Price (INR)</th>\n",
       "    </tr>\n",
       "  </thead>\n",
       "  <tbody>\n",
       "    <tr>\n",
       "      <th>14</th>\n",
       "      <td>Rip it Up and Start Again</td>\n",
       "      <td>£35.02</td>\n",
       "      <td>₹3642.08</td>\n",
       "    </tr>\n",
       "    <tr>\n",
       "      <th>15</th>\n",
       "      <td>Our Band Could Be Your Life: Scenes from the A...</td>\n",
       "      <td>£57.25</td>\n",
       "      <td>₹5954.00</td>\n",
       "    </tr>\n",
       "    <tr>\n",
       "      <th>16</th>\n",
       "      <td>Olio</td>\n",
       "      <td>£23.88</td>\n",
       "      <td>₹2483.52</td>\n",
       "    </tr>\n",
       "    <tr>\n",
       "      <th>17</th>\n",
       "      <td>Mesaerion: The Best Science Fiction Stories 18...</td>\n",
       "      <td>£37.59</td>\n",
       "      <td>₹3909.36</td>\n",
       "    </tr>\n",
       "    <tr>\n",
       "      <th>18</th>\n",
       "      <td>Libertarianism for Beginners</td>\n",
       "      <td>£51.33</td>\n",
       "      <td>₹5338.32</td>\n",
       "    </tr>\n",
       "    <tr>\n",
       "      <th>19</th>\n",
       "      <td>It's Only the Himalayas</td>\n",
       "      <td>£45.17</td>\n",
       "      <td>₹4697.68</td>\n",
       "    </tr>\n",
       "  </tbody>\n",
       "</table>\n",
       "</div>"
      ],
      "text/plain": [
       "                                                Title Price (GBP) Price (INR)\n",
       "14                          Rip it Up and Start Again      £35.02    ₹3642.08\n",
       "15  Our Band Could Be Your Life: Scenes from the A...      £57.25    ₹5954.00\n",
       "16                                               Olio      £23.88    ₹2483.52\n",
       "17  Mesaerion: The Best Science Fiction Stories 18...      £37.59    ₹3909.36\n",
       "18                       Libertarianism for Beginners      £51.33    ₹5338.32\n",
       "19                            It's Only the Himalayas      £45.17    ₹4697.68"
      ]
     },
     "execution_count": 10,
     "metadata": {},
     "output_type": "execute_result"
    }
   ],
   "source": [
    "top=df.tail(6)\n",
    "top"
   ]
  },
  {
   "cell_type": "code",
   "execution_count": 11,
   "id": "c218fbfe-ac80-4667-bddd-76b271196721",
   "metadata": {},
   "outputs": [
    {
     "data": {
      "text/html": [
       "<div>\n",
       "<style scoped>\n",
       "    .dataframe tbody tr th:only-of-type {\n",
       "        vertical-align: middle;\n",
       "    }\n",
       "\n",
       "    .dataframe tbody tr th {\n",
       "        vertical-align: top;\n",
       "    }\n",
       "\n",
       "    .dataframe thead th {\n",
       "        text-align: right;\n",
       "    }\n",
       "</style>\n",
       "<table border=\"1\" class=\"dataframe\">\n",
       "  <thead>\n",
       "    <tr style=\"text-align: right;\">\n",
       "      <th></th>\n",
       "      <th>Title</th>\n",
       "      <th>Price (GBP)</th>\n",
       "      <th>Price (INR)</th>\n",
       "    </tr>\n",
       "  </thead>\n",
       "  <tbody>\n",
       "    <tr>\n",
       "      <th>0</th>\n",
       "      <td>A Light in the Attic</td>\n",
       "      <td>£51.77</td>\n",
       "      <td>₹5384.08</td>\n",
       "    </tr>\n",
       "    <tr>\n",
       "      <th>1</th>\n",
       "      <td>Tipping the Velvet</td>\n",
       "      <td>£53.74</td>\n",
       "      <td>₹5588.96</td>\n",
       "    </tr>\n",
       "    <tr>\n",
       "      <th>2</th>\n",
       "      <td>Soumission</td>\n",
       "      <td>£50.10</td>\n",
       "      <td>₹5210.40</td>\n",
       "    </tr>\n",
       "    <tr>\n",
       "      <th>3</th>\n",
       "      <td>Sharp Objects</td>\n",
       "      <td>£47.82</td>\n",
       "      <td>₹4973.28</td>\n",
       "    </tr>\n",
       "    <tr>\n",
       "      <th>4</th>\n",
       "      <td>Sapiens: A Brief History of Humankind</td>\n",
       "      <td>£54.23</td>\n",
       "      <td>₹5639.92</td>\n",
       "    </tr>\n",
       "  </tbody>\n",
       "</table>\n",
       "</div>"
      ],
      "text/plain": [
       "                                   Title Price (GBP) Price (INR)\n",
       "0                   A Light in the Attic      £51.77    ₹5384.08\n",
       "1                     Tipping the Velvet      £53.74    ₹5588.96\n",
       "2                             Soumission      £50.10    ₹5210.40\n",
       "3                          Sharp Objects      £47.82    ₹4973.28\n",
       "4  Sapiens: A Brief History of Humankind      £54.23    ₹5639.92"
      ]
     },
     "execution_count": 11,
     "metadata": {},
     "output_type": "execute_result"
    }
   ],
   "source": [
    "top=df.head(5)\n",
    "top"
   ]
  },
  {
   "cell_type": "code",
   "execution_count": 12,
   "id": "cc597105-fb8e-4016-a399-4a5df84ad4b0",
   "metadata": {},
   "outputs": [],
   "source": [
    "total = df.groupby('Title')['Price (INR)'].sum().sort_values(ascending=False)"
   ]
  },
  {
   "cell_type": "code",
   "execution_count": 13,
   "id": "12a03fb8-fcbe-4b34-9a99-c529418c63e8",
   "metadata": {},
   "outputs": [
    {
     "data": {
      "image/png": "[encoded data removed]",
      "text/plain": [
       "<Figure size 1000x600 with 1 Axes>"
      ]
     },
     "metadata": {},
     "output_type": "display_data"
    }
   ],
   "source": [
    "top10 = total.head(10)\n",
    "plt.figure(figsize=(10,6)) \n",
    "sns.barplot(x=top10.index, y=top10.values) \n",
    "plt.xticks(rotation=90) \n",
    "plt.gca().invert_yaxis()\n",
    "plt.title('Books Name & Price')\n",
    "plt.xlabel('Title')\n",
    "plt.ylabel('Price (INR)')\n",
    "plt.show()"
   ]
  },
  {
   "cell_type": "code",
   "execution_count": null,
   "id": "9e169768-470f-4a1b-a2dd-026ae384b96e",
   "metadata": {},
   "outputs": [],
   "source": []
  }
 ],
 "metadata": {
  "kernelspec": {
   "display_name": "Python 3 (ipykernel)",
   "language": "python",
   "name": "python3"
  },
  "language_info": {
   "codemirror_mode": {
    "name": "ipython",
    "version": 3
   },
   "file_extension": ".py",
   "mimetype": "text/x-python",
   "name": "python",
   "nbconvert_exporter": "python",
   "pygments_lexer": "ipython3",
   "version": "3.11.5"
  }
 },
 "nbformat": 4,
 "nbformat_minor": 5
}
