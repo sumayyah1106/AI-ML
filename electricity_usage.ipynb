{
 "cells": [
  {
   "cell_type": "code",
   "execution_count": 2,
   "id": "c2edeac5-e968-40ef-8553-e4d62f062820",
   "metadata": {},
   "outputs": [],
   "source": [
    "import numpy as np"
   ]
  },
  {
   "cell_type": "code",
   "execution_count": 3,
   "id": "d8a3acd9-b1f1-471f-bce6-2ef33bd98ecd",
   "metadata": {},
   "outputs": [],
   "source": [
    "import pandas as pd"
   ]
  },
  {
   "cell_type": "code",
   "execution_count": 4,
   "id": "2c956b62-1895-425e-a899-cba6741519dc",
   "metadata": {},
   "outputs": [],
   "source": [
    "np.random.seed(42)"
   ]
  },
  {
   "cell_type": "code",
   "execution_count": 5,
   "id": "32a2b132-f193-4db1-91b9-f33ef1d3d01e",
   "metadata": {},
   "outputs": [],
   "source": [
    "apartments=[f\"Apt_{i}\" for i in range(1,21)]"
   ]
  },
  {
   "cell_type": "code",
   "execution_count": 6,
   "id": "8d5ebfc9-7b9b-4012-bc9c-4539a5720871",
   "metadata": {},
   "outputs": [],
   "source": [
    "dates=pd.date_range(start=\"2025-07-01\",periods=30,freq=\"D\")"
   ]
  },
  {
   "cell_type": "code",
   "execution_count": 7,
   "id": "89d76c9d-8f0a-4fa7-aa79-03244930cc27",
   "metadata": {},
   "outputs": [
    {
     "data": {
      "text/plain": [
       "DatetimeIndex(['2025-07-01', '2025-07-02', '2025-07-03', '2025-07-04',\n",
       "               '2025-07-05', '2025-07-06', '2025-07-07', '2025-07-08',\n",
       "               '2025-07-09', '2025-07-10', '2025-07-11', '2025-07-12',\n",
       "               '2025-07-13', '2025-07-14', '2025-07-15', '2025-07-16',\n",
       "               '2025-07-17', '2025-07-18', '2025-07-19', '2025-07-20',\n",
       "               '2025-07-21', '2025-07-22', '2025-07-23', '2025-07-24',\n",
       "               '2025-07-25', '2025-07-26', '2025-07-27', '2025-07-28',\n",
       "               '2025-07-29', '2025-07-30'],\n",
       "              dtype='datetime64[ns]', freq='D')"
      ]
     },
     "execution_count": 7,
     "metadata": {},
     "output_type": "execute_result"
    }
   ],
   "source": [
    "dates"
   ]
  },
  {
   "cell_type": "code",
   "execution_count": 8,
   "id": "37d5f1dc-2914-432d-a430-0e4c456162c8",
   "metadata": {},
   "outputs": [],
   "source": [
    "data={\n",
    "    \"Date\":np.tile(dates,len(apartments)),\n",
    "    \"Apartment\":np.repeat(apartments,len(dates)),\n",
    "    \"Electricity_usage\":np.random.normal(loc=20,scale=5,size=len(dates)* len(apartments))\n",
    "}\n",
    "    "
   ]
  },
  {
   "cell_type": "code",
   "execution_count": 9,
   "id": "a9c6ce6a-c84f-4745-a9cd-4019e549ea16",
   "metadata": {},
   "outputs": [],
   "source": [
    "df=pd.DataFrame(data)"
   ]
  },
  {
   "cell_type": "code",
   "execution_count": 10,
   "id": "4d793114-7877-4cd6-94bb-bc7cf4514e42",
   "metadata": {},
   "outputs": [
    {
     "data": {
      "text/html": [
       "<div>\n",
       "<style scoped>\n",
       "    .dataframe tbody tr th:only-of-type {\n",
       "        vertical-align: middle;\n",
       "    }\n",
       "\n",
       "    .dataframe tbody tr th {\n",
       "        vertical-align: top;\n",
       "    }\n",
       "\n",
       "    .dataframe thead th {\n",
       "        text-align: right;\n",
       "    }\n",
       "</style>\n",
       "<table border=\"1\" class=\"dataframe\">\n",
       "  <thead>\n",
       "    <tr style=\"text-align: right;\">\n",
       "      <th></th>\n",
       "      <th>Date</th>\n",
       "      <th>Apartment</th>\n",
       "      <th>Electricity_usage</th>\n",
       "    </tr>\n",
       "  </thead>\n",
       "  <tbody>\n",
       "    <tr>\n",
       "      <th>0</th>\n",
       "      <td>2025-07-01</td>\n",
       "      <td>Apt_1</td>\n",
       "      <td>22.483571</td>\n",
       "    </tr>\n",
       "    <tr>\n",
       "      <th>1</th>\n",
       "      <td>2025-07-02</td>\n",
       "      <td>Apt_1</td>\n",
       "      <td>19.308678</td>\n",
       "    </tr>\n",
       "    <tr>\n",
       "      <th>2</th>\n",
       "      <td>2025-07-03</td>\n",
       "      <td>Apt_1</td>\n",
       "      <td>23.238443</td>\n",
       "    </tr>\n",
       "    <tr>\n",
       "      <th>3</th>\n",
       "      <td>2025-07-04</td>\n",
       "      <td>Apt_1</td>\n",
       "      <td>27.615149</td>\n",
       "    </tr>\n",
       "    <tr>\n",
       "      <th>4</th>\n",
       "      <td>2025-07-05</td>\n",
       "      <td>Apt_1</td>\n",
       "      <td>18.829233</td>\n",
       "    </tr>\n",
       "    <tr>\n",
       "      <th>...</th>\n",
       "      <td>...</td>\n",
       "      <td>...</td>\n",
       "      <td>...</td>\n",
       "    </tr>\n",
       "    <tr>\n",
       "      <th>595</th>\n",
       "      <td>2025-07-26</td>\n",
       "      <td>Apt_20</td>\n",
       "      <td>17.449918</td>\n",
       "    </tr>\n",
       "    <tr>\n",
       "      <th>596</th>\n",
       "      <td>2025-07-27</td>\n",
       "      <td>Apt_20</td>\n",
       "      <td>18.650625</td>\n",
       "    </tr>\n",
       "    <tr>\n",
       "      <th>597</th>\n",
       "      <td>2025-07-28</td>\n",
       "      <td>Apt_20</td>\n",
       "      <td>15.106181</td>\n",
       "    </tr>\n",
       "    <tr>\n",
       "      <th>598</th>\n",
       "      <td>2025-07-29</td>\n",
       "      <td>Apt_20</td>\n",
       "      <td>17.778534</td>\n",
       "    </tr>\n",
       "    <tr>\n",
       "      <th>599</th>\n",
       "      <td>2025-07-30</td>\n",
       "      <td>Apt_20</td>\n",
       "      <td>21.886502</td>\n",
       "    </tr>\n",
       "  </tbody>\n",
       "</table>\n",
       "<p>600 rows × 3 columns</p>\n",
       "</div>"
      ],
      "text/plain": [
       "          Date Apartment  Electricity_usage\n",
       "0   2025-07-01     Apt_1          22.483571\n",
       "1   2025-07-02     Apt_1          19.308678\n",
       "2   2025-07-03     Apt_1          23.238443\n",
       "3   2025-07-04     Apt_1          27.615149\n",
       "4   2025-07-05     Apt_1          18.829233\n",
       "..         ...       ...                ...\n",
       "595 2025-07-26    Apt_20          17.449918\n",
       "596 2025-07-27    Apt_20          18.650625\n",
       "597 2025-07-28    Apt_20          15.106181\n",
       "598 2025-07-29    Apt_20          17.778534\n",
       "599 2025-07-30    Apt_20          21.886502\n",
       "\n",
       "[600 rows x 3 columns]"
      ]
     },
     "execution_count": 10,
     "metadata": {},
     "output_type": "execute_result"
    }
   ],
   "source": [
    "df"
   ]
  },
  {
   "cell_type": "code",
   "execution_count": 11,
   "id": "fe2b8c08-d4ae-4198-a661-267256c963e6",
   "metadata": {},
   "outputs": [],
   "source": [
    "df[\"Electricity_usage\"]=df[\"Electricity_usage\"].round(2)"
   ]
  },
  {
   "cell_type": "code",
   "execution_count": 12,
   "id": "d684d083-8211-463d-aaa1-d9fa94e99d34",
   "metadata": {},
   "outputs": [
    {
     "name": "stdout",
     "output_type": "stream",
     "text": [
      "Date                 0\n",
      "Apartment            0\n",
      "Electricity_usage    0\n",
      "dtype: int64\n"
     ]
    }
   ],
   "source": [
    "print(df.isnull().sum())"
   ]
  },
  {
   "cell_type": "code",
   "execution_count": 13,
   "id": "43aecc5c-b19b-48bf-8545-a6434f1d3a28",
   "metadata": {},
   "outputs": [
    {
     "name": "stdout",
     "output_type": "stream",
     "text": [
      "                      Date  Electricity_usage\n",
      "count                  600         600.000000\n",
      "mean   2025-07-15 12:00:00          19.932500\n",
      "min    2025-07-01 00:00:00           3.790000\n",
      "25%    2025-07-08 00:00:00          16.530000\n",
      "50%    2025-07-15 12:00:00          20.040000\n",
      "75%    2025-07-23 00:00:00          23.112500\n",
      "max    2025-07-30 00:00:00          39.260000\n",
      "std                    NaN           4.861071\n"
     ]
    }
   ],
   "source": [
    "print(df.describe())"
   ]
  },
  {
   "cell_type": "code",
   "execution_count": 14,
   "id": "4d8572c4-cb4f-43d4-be4a-bc0284dd04ac",
   "metadata": {},
   "outputs": [
    {
     "name": "stdout",
     "output_type": "stream",
     "text": [
      "Date                 datetime64[ns]\n",
      "Apartment                    object\n",
      "Electricity_usage           float64\n",
      "dtype: object\n"
     ]
    }
   ],
   "source": [
    "print(df.dtypes)"
   ]
  },
  {
   "cell_type": "code",
   "execution_count": 15,
   "id": "e6c3de65-9182-4ee6-ae0b-90390470ef76",
   "metadata": {},
   "outputs": [
    {
     "name": "stdout",
     "output_type": "stream",
     "text": [
      "Apartment\n",
      "Apt_11    642.31\n",
      "Apt_6     641.82\n",
      "Apt_13    634.22\n",
      "Apt_10    616.09\n",
      "Apt_20    613.14\n",
      "Apt_7     609.87\n",
      "Apt_8     607.18\n",
      "Apt_16    606.97\n",
      "Apt_14    604.33\n",
      "Apt_3     601.93\n",
      "Apt_4     596.99\n",
      "Apt_15    591.38\n",
      "Apt_19    586.61\n",
      "Apt_5     585.76\n",
      "Apt_2     581.81\n",
      "Apt_9     578.48\n",
      "Apt_1     571.80\n",
      "Apt_17    570.33\n",
      "Apt_12    568.99\n",
      "Apt_18    549.49\n",
      "Name: Electricity_usage, dtype: float64\n"
     ]
    }
   ],
   "source": [
    "usage_per_apartment= df.groupby(\"Apartment\")[\"Electricity_usage\"].sum().sort_values(ascending=False)\n",
    "print(usage_per_apartment)"
   ]
  },
  {
   "cell_type": "code",
   "execution_count": 16,
   "id": "a4d7412a-49be-449d-a9bc-0b652c539325",
   "metadata": {},
   "outputs": [
    {
     "name": "stdout",
     "output_type": "stream",
     "text": [
      "Date\n",
      "2025-07-01    21.0440\n",
      "2025-07-02    20.8695\n",
      "2025-07-03    19.5685\n",
      "2025-07-04    20.9855\n",
      "2025-07-05    19.7835\n",
      "Name: Electricity_usage, dtype: float64\n"
     ]
    }
   ],
   "source": [
    "daily_avg=df.groupby(\"Date\")[\"Electricity_usage\"].mean()\n",
    "print(daily_avg.head())"
   ]
  },
  {
   "cell_type": "code",
   "execution_count": 17,
   "id": "793928ed-d3bf-47ee-8d78-8f8ef1e9ee1e",
   "metadata": {},
   "outputs": [
    {
     "name": "stdout",
     "output_type": "stream",
     "text": [
      "Defaulting to user installation because normal site-packages is not writeable\n",
      "Requirement already satisfied: seaborn in c:\\users\\lenovo\\appdata\\roaming\\python\\python311\\site-packages (0.13.2)\n",
      "Requirement already satisfied: numpy!=1.24.0,>=1.20 in c:\\users\\lenovo\\appdata\\roaming\\python\\python311\\site-packages (from seaborn) (2.3.1)\n",
      "Requirement already satisfied: pandas>=1.2 in c:\\users\\lenovo\\appdata\\roaming\\python\\python311\\site-packages (from seaborn) (2.3.1)\n",
      "Requirement already satisfied: matplotlib!=3.6.1,>=3.4 in c:\\users\\lenovo\\appdata\\roaming\\python\\python311\\site-packages (from seaborn) (3.10.3)\n",
      "Requirement already satisfied: contourpy>=1.0.1 in c:\\users\\lenovo\\appdata\\roaming\\python\\python311\\site-packages (from matplotlib!=3.6.1,>=3.4->seaborn) (1.3.2)\n",
      "Requirement already satisfied: cycler>=0.10 in c:\\users\\lenovo\\appdata\\roaming\\python\\python311\\site-packages (from matplotlib!=3.6.1,>=3.4->seaborn) (0.12.1)\n",
      "Requirement already satisfied: fonttools>=4.22.0 in c:\\users\\lenovo\\appdata\\roaming\\python\\python311\\site-packages (from matplotlib!=3.6.1,>=3.4->seaborn) (4.58.5)\n",
      "Requirement already satisfied: kiwisolver>=1.3.1 in c:\\users\\lenovo\\appdata\\roaming\\python\\python311\\site-packages (from matplotlib!=3.6.1,>=3.4->seaborn) (1.4.8)\n",
      "Requirement already satisfied: packaging>=20.0 in c:\\users\\lenovo\\appdata\\roaming\\python\\python311\\site-packages (from matplotlib!=3.6.1,>=3.4->seaborn) (25.0)\n",
      "Requirement already satisfied: pillow>=8 in c:\\users\\lenovo\\appdata\\roaming\\python\\python311\\site-packages (from matplotlib!=3.6.1,>=3.4->seaborn) (11.3.0)\n",
      "Requirement already satisfied: pyparsing>=2.3.1 in c:\\users\\lenovo\\appdata\\roaming\\python\\python311\\site-packages (from matplotlib!=3.6.1,>=3.4->seaborn) (3.2.3)\n",
      "Requirement already satisfied: python-dateutil>=2.7 in c:\\users\\lenovo\\appdata\\roaming\\python\\python311\\site-packages (from matplotlib!=3.6.1,>=3.4->seaborn) (2.9.0.post0)\n",
      "Requirement already satisfied: pytz>=2020.1 in c:\\users\\lenovo\\appdata\\roaming\\python\\python311\\site-packages (from pandas>=1.2->seaborn) (2025.2)\n",
      "Requirement already satisfied: tzdata>=2022.7 in c:\\users\\lenovo\\appdata\\roaming\\python\\python311\\site-packages (from pandas>=1.2->seaborn) (2025.2)\n",
      "Requirement already satisfied: six>=1.5 in c:\\users\\lenovo\\appdata\\roaming\\python\\python311\\site-packages (from python-dateutil>=2.7->matplotlib!=3.6.1,>=3.4->seaborn) (1.17.0)\n",
      "Note: you may need to restart the kernel to use updated packages.\n"
     ]
    }
   ],
   "source": [
    "pip install seaborn"
   ]
  },
  {
   "cell_type": "code",
   "execution_count": 18,
   "id": "5d994ee1-488b-4565-9d1b-260bfbcb7e21",
   "metadata": {},
   "outputs": [
    {
     "name": "stdout",
     "output_type": "stream",
     "text": [
      "Defaulting to user installation because normal site-packages is not writeable\n",
      "Requirement already satisfied: matplotlib in c:\\users\\lenovo\\appdata\\roaming\\python\\python311\\site-packages (3.10.3)\n",
      "Requirement already satisfied: contourpy>=1.0.1 in c:\\users\\lenovo\\appdata\\roaming\\python\\python311\\site-packages (from matplotlib) (1.3.2)\n",
      "Requirement already satisfied: cycler>=0.10 in c:\\users\\lenovo\\appdata\\roaming\\python\\python311\\site-packages (from matplotlib) (0.12.1)\n",
      "Requirement already satisfied: fonttools>=4.22.0 in c:\\users\\lenovo\\appdata\\roaming\\python\\python311\\site-packages (from matplotlib) (4.58.5)\n",
      "Requirement already satisfied: kiwisolver>=1.3.1 in c:\\users\\lenovo\\appdata\\roaming\\python\\python311\\site-packages (from matplotlib) (1.4.8)\n",
      "Requirement already satisfied: numpy>=1.23 in c:\\users\\lenovo\\appdata\\roaming\\python\\python311\\site-packages (from matplotlib) (2.3.1)\n",
      "Requirement already satisfied: packaging>=20.0 in c:\\users\\lenovo\\appdata\\roaming\\python\\python311\\site-packages (from matplotlib) (25.0)\n",
      "Requirement already satisfied: pillow>=8 in c:\\users\\lenovo\\appdata\\roaming\\python\\python311\\site-packages (from matplotlib) (11.3.0)\n",
      "Requirement already satisfied: pyparsing>=2.3.1 in c:\\users\\lenovo\\appdata\\roaming\\python\\python311\\site-packages (from matplotlib) (3.2.3)\n",
      "Requirement already satisfied: python-dateutil>=2.7 in c:\\users\\lenovo\\appdata\\roaming\\python\\python311\\site-packages (from matplotlib) (2.9.0.post0)\n",
      "Requirement already satisfied: six>=1.5 in c:\\users\\lenovo\\appdata\\roaming\\python\\python311\\site-packages (from python-dateutil>=2.7->matplotlib) (1.17.0)\n",
      "Note: you may need to restart the kernel to use updated packages.\n"
     ]
    }
   ],
   "source": [
    "pip install matplotlib"
   ]
  },
  {
   "cell_type": "code",
   "execution_count": 19,
   "id": "2b2d9b14-5b51-4bd1-a033-498b6628d8bc",
   "metadata": {},
   "outputs": [],
   "source": [
    "import matplotlib.pyplot as plt\n",
    "import seaborn as sns"
   ]
  },
  {
   "cell_type": "code",
   "execution_count": 20,
   "id": "cb451f99-2d5c-4ca8-8e43-3337278a056e",
   "metadata": {},
   "outputs": [
    {
     "data": {
      "image/png": "[encoded data removed]",
      "text/plain": [
       "<Figure size 1000x600 with 1 Axes>"
      ]
     },
     "metadata": {},
     "output_type": "display_data"
    }
   ],
   "source": [
    "plt.figure(figsize=(10,6))\n",
    "sns.barplot(x=usage_per_apartment.index, y= usage_per_apartment.values)\n",
    "plt.xticks(rotation=90)\n",
    "plt.title(\"Total usage per Apartments\")\n",
    "plt.xlabel(\"Apartmant\")\n",
    "plt.ylabel(\"Total KWH\")\n",
    "plt.show()"
   ]
  },
  {
   "cell_type": "code",
   "execution_count": 21,
   "id": "9cf19ddb-0683-4a05-918e-b398d0a9297a",
   "metadata": {},
   "outputs": [
    {
     "data": {
      "image/png": "[encoded data removed]",
      "text/plain": [
       "<Figure size 1000x600 with 1 Axes>"
      ]
     },
     "metadata": {},
     "output_type": "display_data"
    }
   ],
   "source": [
    "plt.figure(figsize=(10,6))\n",
    "sns.lineplot(x=daily_avg.index, y=daily_avg.values)\n",
    "plt.title(\"Daily average electricity usage\")\n",
    "plt.xlabel(\"Date\")\n",
    "plt.ylabel(\"Average kWh\")\n",
    "plt.tight_layout()\n",
    "plt.show()"
   ]
  },
  {
   "cell_type": "code",
   "execution_count": 26,
   "id": "a6dc75b9-e4ea-4607-9968-a6d355ceae75",
   "metadata": {},
   "outputs": [
    {
     "name": "stdout",
     "output_type": "stream",
     "text": [
      "          Date Apartment  Electricity_usage  High_usage_flag\n",
      "113 2025-07-24     Apt_4              32.32             True\n",
      "125 2025-07-06     Apt_5              30.95             True\n",
      "179 2025-07-30     Apt_6              33.60             True\n",
      "209 2025-07-30     Apt_7              39.26             True\n",
      "220 2025-07-11     Apt_8              31.57             True\n"
     ]
    }
   ],
   "source": [
    "threshold=df[\"Electricity_usage\"].mean()+2 *df[\"Electricity_usage\"].std()\n",
    "df[\"High_usage_flag\"]= df[\"Electricity_usage\"] > threshold\n",
    "print(df[df[\"High_usage_flag\"]== True].head())"
   ]
  }
 ],
 "metadata": {
  "kernelspec": {
   "display_name": "Python 3 (ipykernel)",
   "language": "python",
   "name": "python3"
  },
  "language_info": {
   "codemirror_mode": {
    "name": "ipython",
    "version": 3
   },
   "file_extension": ".py",
   "mimetype": "text/x-python",
   "name": "python",
   "nbconvert_exporter": "python",
   "pygments_lexer": "ipython3",
   "version": "3.11.5"
  }
 },
 "nbformat": 4,
 "nbformat_minor": 5
}
